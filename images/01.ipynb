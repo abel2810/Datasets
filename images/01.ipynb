{
  "nbformat": 4,
  "nbformat_minor": 0,
  "metadata": {
    "colab": {
      "name": "01.ipynb",
      "provenance": [],
      "authorship_tag": "ABX9TyOexHTtZlI1N3nSZTDg+Gjk",
      "include_colab_link": true
    },
    "kernelspec": {
      "name": "python3",
      "display_name": "Python 3"
    },
    "language_info": {
      "name": "python"
    }
  },
  "cells": [
    {
      "cell_type": "markdown",
      "metadata": {
        "id": "view-in-github",
        "colab_type": "text"
      },
      "source": [
        "<a href=\"https://colab.research.google.com/github/tec03/clase1/blob/Testing_Branch_j/01.ipynb\" target=\"_parent\"><img src=\"https://colab.research.google.com/assets/colab-badge.svg\" alt=\"Open In Colab\"/></a>"
      ]
    },
    {
      "cell_type": "code",
      "execution_count": null,
      "metadata": {
        "id": "0r-RL722J9Hp",
        "outputId": "7602892d-8fcc-4b54-ab86-b5069fcbe0a9",
        "colab": {
          "base_uri": "https://localhost:8080/"
        }
      },
      "outputs": [
        {
          "output_type": "stream",
          "name": "stdout",
          "text": [
            "Primer mensaje\n"
          ]
        }
      ],
      "source": [
        "print('Primer mensaje')"
      ]
    },
    {
      "cell_type": "code",
      "source": [
        "print('Estoy modificando en el brranch 1')"
      ],
      "metadata": {
        "id": "EKe4IOWPMFvk",
        "outputId": "a25e2259-fd7c-40f6-b1c8-575f786c174f",
        "colab": {
          "base_uri": "https://localhost:8080/"
        }
      },
      "execution_count": 2,
      "outputs": [
        {
          "output_type": "stream",
          "name": "stdout",
          "text": [
            "Estoy modificando en el brranch 1\n"
          ]
        }
      ]
    },
    {
      "cell_type": "code",
      "source": [
        ""
      ],
      "metadata": {
        "id": "uxw8P6aGNX-u"
      },
      "execution_count": null,
      "outputs": []
    }
  ]
}
